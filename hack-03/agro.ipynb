{
 "cells": [
  {
   "cell_type": "markdown",
   "metadata": {},
   "source": [
    "## Hack 3"
   ]
  },
  {
   "cell_type": "code",
   "execution_count": 14,
   "metadata": {
    "collapsed": false,
    "scrolled": false,
    "slideshow": {
     "slide_type": "slide"
    }
   },
   "outputs": [
    {
     "name": "stdout",
     "output_type": "stream",
     "text": [
      "@prefix owl:   <http://www.w3.org/2002/07/owl#> .\n",
      "@prefix rdf:   <http://www.w3.org/1999/02/22-rdf-syntax-ns#> .\n",
      "@prefix xsd:   <http://www.w3.org/2001/XMLSchema#> .\n",
      "@prefix skos:  <http://www.w3.org/2004/02/skos/core#> .\n",
      "@prefix rdfs:  <http://www.w3.org/2000/01/rdf-schema#> .\n",
      "@prefix agro:  <http://www.sw.fr/isa/agro#> .\n",
      "@prefix dc:    <http://purl.org/dc/terms/> .\n",
      "\n",
      "agro:Plant  a           skos:Concept ;\n",
      "        skos:broader    agro:LivingOrganism ;\n",
      "        skos:prefLabel  \"Planta\"@it , \"Plante\"@fr , \"Plant\"@en .\n",
      "\n",
      "agro:Animal  a          skos:Concept ;\n",
      "        skos:broader    agro:LivingOrganism ;\n",
      "        skos:prefLabel  \"Animale\"@it , \"Animal\"@fr , \"Animal\"@en .\n",
      "\n",
      "agro:LivingOrganism  a  skos:Concept ;\n",
      "        skos:prefLabel  \"Organismo Vivente\"@it , \"Organisme Vivant\"@fr , \"Living Organism\"@en .\n"
     ]
    }
   ],
   "source": [
    "%%script bash\n",
    "arq --data agro.n3 '\n",
    "PREFIX rdf: <http://www.w3.org/1999/02/22-rdf-syntax-ns#> \n",
    "PREFIX rdfs: <http://www.w3.org/2000/01/rdf-schema#> \n",
    "PREFIX dc: <http://purl.org/dc/terms/> \n",
    "PREFIX owl: <http://www.w3.org/2002/07/owl#> \n",
    "PREFIX skos: <http://www.w3.org/2004/02/skos/core#>\n",
    "PREFIX agro:  <http://www.sw.fr/isa/agro#> \n",
    "\n",
    "CONSTRUCT {\n",
    "            ?s rdf:type skos:Concept .\n",
    "            ?s skos:broader ?subC .\n",
    "            ?s skos:prefLabel ?label .\n",
    "          }\n",
    "WHERE { \n",
    "        ?s rdf:type owl:Class  .\n",
    "        OPTIONAL { ?s rdfs:subClassOf ?subC . }\n",
    "        OPTIONAL { ?s rdfs:label ?label . }\n",
    "      }\n",
    "'"
   ]
  },
  {
   "cell_type": "code",
   "execution_count": 4,
   "metadata": {
    "collapsed": false,
    "scrolled": false,
    "slideshow": {
     "slide_type": "slide"
    }
   },
   "outputs": [
    {
     "name": "stdout",
     "output_type": "stream",
     "text": [
      "@prefix owl:   <http://www.w3.org/2002/07/owl#> .\n",
      "@prefix rdf:   <http://www.w3.org/1999/02/22-rdf-syntax-ns#> .\n",
      "@prefix xsd:   <http://www.w3.org/2001/XMLSchema#> .\n",
      "@prefix skos:  <http://www.w3.org/2004/02/skos/core#> .\n",
      "@prefix rdfs:  <http://www.w3.org/2000/01/rdf-schema#> .\n",
      "@prefix agro:  <http://www.sw.fr/isa/agro#> .\n",
      "@prefix dc:    <http://purl.org/dc/terms/> .\n",
      "\n",
      "agro:eats  rdfs:subPropertyOf  skos:related .\n",
      "\n",
      "agro:Leaf  a           skos:Concept ;\n",
      "        agro:isPartOf  agro:Plant .\n",
      "\n",
      "agro:Plant  a           skos:Concept ;\n",
      "        skos:broader    agro:LivingOrganism ;\n",
      "        skos:prefLabel  \"Planta\"@it , \"Plante\"@fr , \"Plant\"@en .\n",
      "\n",
      "agro:Animal  a          skos:Concept ;\n",
      "        skos:broader    agro:LivingOrganism ;\n",
      "        skos:prefLabel  \"Animale\"@it , \"Animal\"@fr , \"Animal\"@en .\n",
      "\n",
      "agro:LivingOrganism  a  skos:Concept ;\n",
      "        skos:prefLabel  \"Organismo Vivente\"@it , \"Organisme Vivant\"@fr , \"Living Organism\"@en .\n",
      "\n",
      "agro:isPartOf  rdfs:subPropertyOf  skos:broader .\n",
      "\n",
      "agro:Cow  a        skos:Concept ;\n",
      "        agro:eats  agro:Plant .\n"
     ]
    }
   ],
   "source": [
    "%%script bash\n",
    "arq --data agro.n3 '\n",
    "PREFIX rdf: <http://www.w3.org/1999/02/22-rdf-syntax-ns#> \n",
    "PREFIX rdfs: <http://www.w3.org/2000/01/rdf-schema#> \n",
    "PREFIX dc: <http://purl.org/dc/terms/> \n",
    "PREFIX owl: <http://www.w3.org/2002/07/owl#> \n",
    "PREFIX skos: <http://www.w3.org/2004/02/skos/core#>\n",
    "PREFIX agro:  <http://www.sw.fr/isa/agro#> \n",
    "\n",
    "CONSTRUCT {\n",
    "            ?s rdf:type skos:Concept .\n",
    "            ?s skos:broader ?subC .\n",
    "            ?s skos:prefLabel ?label .\n",
    "            ?p rdfs:subPropertyOf skos:broader .\n",
    "            ?s ?p ?o .\n",
    "            ?p2 rdfs:subPropertyOf skos:related .\n",
    "            ?s ?p2 ?oRel .\n",
    "          }\n",
    "WHERE { \n",
    "        ?s rdf:type owl:Class  .\n",
    "        OPTIONAL { ?s rdfs:subClassOf ?subC . }\n",
    "        OPTIONAL { ?s rdfs:label ?label . }\n",
    "        OPTIONAL { ?p rdf:type owl:TransitiveProperty .\n",
    "                   ?s ?p ?o .\n",
    "                 }\n",
    "        OPTIONAL {\n",
    "                   ?p2 rdf:type owl:ObjectProperty .\n",
    "                   FILTER NOT EXISTS { ?p2 rdf:type owl:TransitiveProperty } .\n",
    "                   ?s ?p2 ?oRel .\n",
    "                  }\n",
    "    }\n",
    "'"
   ]
  },
  {
   "cell_type": "code",
   "execution_count": null,
   "metadata": {
    "collapsed": true
   },
   "outputs": [],
   "source": []
  }
 ],
 "metadata": {
  "celltoolbar": "Slideshow",
  "kernelspec": {
   "display_name": "Python 2",
   "language": "python",
   "name": "python2"
  },
  "language_info": {
   "codemirror_mode": {
    "name": "ipython",
    "version": 2
   },
   "file_extension": ".py",
   "mimetype": "text/x-python",
   "name": "python",
   "nbconvert_exporter": "python",
   "pygments_lexer": "ipython2",
   "version": "2.7.11"
  }
 },
 "nbformat": 4,
 "nbformat_minor": 0
}
