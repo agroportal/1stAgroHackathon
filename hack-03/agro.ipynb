{
 "cells": [
  {
   "cell_type": "markdown",
   "metadata": {},
   "source": [
    "## Hack 3"
   ]
  },
  {
   "cell_type": "code",
   "execution_count": 15,
   "metadata": {
    "collapsed": false,
    "slideshow": {
     "slide_type": "slide"
    }
   },
   "outputs": [
    {
     "name": "stdout",
     "output_type": "stream",
     "text": [
      "@prefix rdfs:  <http://www.w3.org/2000/01/rdf-schema#> .\r\n",
      "@prefix owl:   <http://www.w3.org/2002/07/owl#> .\r\n",
      "@prefix xsd:   <http://www.w3.org/2001/XMLSchema#> .\r\n",
      "@prefix rdf:   <http://www.w3.org/1999/02/22-rdf-syntax-ns#> .\r\n",
      "@prefix agro:  <http://www.sw.fr/isa/agro#> .\r\n",
      "\r\n",
      "agro:Plant  a             owl:Class ;\r\n",
      "        rdfs:label        \"Planta\"@it , \"Plante\"@fr , \"Plant\"@en ;\r\n",
      "        rdfs:subClassOf   agro:LivingOrganism ;\r\n",
      "        owl:disjointWith  agro:Animal .\r\n",
      "\r\n",
      "agro:Animal  a           owl:Class ;\r\n",
      "        rdfs:label       \"Animale\"@it , \"Animal\"@fr , \"Animal\"@en ;\r\n",
      "        rdfs:subClassOf  agro:LivingOrganism .\r\n",
      "\r\n",
      "agro:p1  a          agro:Plant ;\r\n",
      "        rdfs:label  \"plant1\"^^xsd:string ;\r\n",
      "        agro:name   \"Platanus wrighitii\"^^xsd:string .\r\n",
      "\r\n",
      "agro:LivingOrganism  a  owl:Class ;\r\n",
      "        rdfs:label  \"Organismo Vivente\"@it , \"Organisme Vivant\"@fr , \"Living Organism\"@en .\r\n",
      "\r\n",
      "agro:name  a         owl:DatatypeProperty ;\r\n",
      "        rdfs:domain  agro:LivingOrganism ;\r\n",
      "        rdfs:range   xsd:string .\r\n"
     ]
    }
   ],
   "source": [
    "!cat agro.n3"
   ]
  },
  {
   "cell_type": "code",
   "execution_count": 14,
   "metadata": {
    "collapsed": false,
    "scrolled": false
   },
   "outputs": [
    {
     "name": "stdout",
     "output_type": "stream",
     "text": [
      "@prefix owl:   <http://www.w3.org/2002/07/owl#> .\n",
      "@prefix rdf:   <http://www.w3.org/1999/02/22-rdf-syntax-ns#> .\n",
      "@prefix xsd:   <http://www.w3.org/2001/XMLSchema#> .\n",
      "@prefix skos:  <http://www.w3.org/2004/02/skos/core#> .\n",
      "@prefix rdfs:  <http://www.w3.org/2000/01/rdf-schema#> .\n",
      "@prefix agro:  <http://www.sw.fr/isa/agro#> .\n",
      "@prefix dc:    <http://purl.org/dc/terms/> .\n",
      "\n",
      "agro:Plant  a           skos:Concept ;\n",
      "        skos:broader    agro:LivingOrganism ;\n",
      "        skos:prefLabel  \"Planta\"@it , \"Plante\"@fr , \"Plant\"@en .\n",
      "\n",
      "agro:Animal  a          skos:Concept ;\n",
      "        skos:broader    agro:LivingOrganism ;\n",
      "        skos:prefLabel  \"Animale\"@it , \"Animal\"@fr , \"Animal\"@en .\n",
      "\n",
      "agro:LivingOrganism  a  skos:Concept ;\n",
      "        skos:prefLabel  \"Organismo Vivente\"@it , \"Organisme Vivant\"@fr , \"Living Organism\"@en .\n"
     ]
    }
   ],
   "source": [
    "%%script bash\n",
    "arq --data agro.n3 '\n",
    "PREFIX rdf: <http://www.w3.org/1999/02/22-rdf-syntax-ns#> \n",
    "PREFIX rdfs: <http://www.w3.org/2000/01/rdf-schema#> \n",
    "PREFIX dc: <http://purl.org/dc/terms/> \n",
    "PREFIX owl: <http://www.w3.org/2002/07/owl#> \n",
    "PREFIX skos: <http://www.w3.org/2004/02/skos/core#>\n",
    "PREFIX agro:  <http://www.sw.fr/isa/agro#> \n",
    "\n",
    "CONSTRUCT {\n",
    "            ?s rdf:type skos:Concept .\n",
    "            ?s skos:broader ?subC .\n",
    "            ?s skos:prefLabel ?label .\n",
    "          }\n",
    "WHERE { \n",
    "        ?s rdf:type owl:Class  .\n",
    "        OPTIONAL { ?s rdfs:subClassOf ?subC . }\n",
    "        OPTIONAL { ?s rdfs:label ?label . }\n",
    "      }\n",
    "'"
   ]
  },
  {
   "cell_type": "code",
   "execution_count": null,
   "metadata": {
    "collapsed": true
   },
   "outputs": [],
   "source": []
  }
 ],
 "metadata": {
  "celltoolbar": "Slideshow",
  "kernelspec": {
   "display_name": "Python 2",
   "language": "python",
   "name": "python2"
  },
  "language_info": {
   "codemirror_mode": {
    "name": "ipython",
    "version": 2
   },
   "file_extension": ".py",
   "mimetype": "text/x-python",
   "name": "python",
   "nbconvert_exporter": "python",
   "pygments_lexer": "ipython2",
   "version": "2.7.11"
  }
 },
 "nbformat": 4,
 "nbformat_minor": 0
}
