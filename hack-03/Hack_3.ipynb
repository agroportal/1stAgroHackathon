{
 "cells": [
  {
   "cell_type": "markdown",
   "metadata": {},
   "source": [
    "## Hack 3: “Using SKOS to display OWL ontologies”\n",
    "\n",
    "AgroHackathon, LIRMM, Montpellier, 1 July 2016\n",
    "\n",
    "* Tom Baker\n",
    "* Caterina Caracciolo\n",
    "* Simon Jupp\n",
    "* Marie-Angelique Laporte\n",
    "* Isabelle Mougenot\n",
    "* Stella Zevio"
   ]
  },
  {
   "cell_type": "markdown",
   "metadata": {},
   "source": [
    "#### Problem\n",
    "\n",
    "Make OWL ontologies browsable with simple hierarchical interfaces such as the\n",
    "[Skosmos browser](http://browser.agrisemantics.org/gacs/en/) for GACS."
   ]
  },
  {
   "cell_type": "markdown",
   "metadata": {},
   "source": [
    "#### Use cases\n",
    "\n",
    "1. People who want to tag or annotate their resources with terms from OWL ontologies (e.g., URIs or labels of OWL classes).\n",
    "2. People who want to browse the terms of OWL ontologies and for whom the relations broader, narrower, and related are sufficient.\n"
   ]
  },
  {
   "cell_type": "markdown",
   "metadata": {},
   "source": [
    "#### Hack proposal\n",
    "\n",
    "*  Specify heuristics for the lossy translation of an example OWL ontology into SKOS\n",
    "*  Implement a simple conversion based on the heuristics, e.g., in SPARQL.\n",
    "*  Load the SKOS translation of the ontology into a SKOS visualizer."
   ]
  },
  {
   "cell_type": "markdown",
   "metadata": {},
   "source": [
    "#### Simon Jupp's converter, OBO to SKOS\n",
    "\n",
    "* Available at http://mowl-power.cs.man.ac.uk:8080/obotoskos\n",
    "* See heuristics at http://www.cs.man.ac.uk/~sjupp/skos/index.html\n",
    "  * For example OBO Name (\"The preferred term name\") is converted into skos:prefLabel\n",
    "* Note: * https://github.com/ontodev/robot can convert between ontology formats.  The default format is RDF/XML, but Robot also supports the OBO file format.\n",
    "\n",
    "```\n",
    "robot convert --input annotated.owl --output results/annotated.obo\n",
    "```"
   ]
  },
  {
   "cell_type": "markdown",
   "metadata": {},
   "source": [
    "#### Example in OBO (before conversion)\n",
    "\n",
    "```\n",
    "[Term]\n",
    "id: CL:0000097\n",
    "name: mast cell\n",
    "def: \"A cell that is found in almost all tissues containing numerous basophilic granules and capable of releasing large amounts of histamine and\n",
    "heparin upon activation.\" [GOC:add, ISBN:068340007X, MESH:A.11.329.427]\n",
    "related_synonym: \"tissue basophil\" [ISBN:068340007X]\n",
    "exact_synonym: \"labrocyte\" [ISBN:0721601464]\n",
    "exact_synonym: \"mastocyte\" [ISBN:0721601464]\n",
    "is_a: CL:0000766 ! myeloid leukocyte\n",
    "relationship: develops_from CL:0000831 ! mast cell progenitor\n",
    "```"
   ]
  },
  {
   "cell_type": "markdown",
   "metadata": {},
   "source": [
    "#### Example in SKOS (after conversion)\n",
    "\n",
    "```\n",
    ":CL_0000097\n",
    "    :develops_from :CL_0000831 ;\n",
    "    :is-a :CL_0000766 ;\n",
    "    :super-class-of :CL_0000484, :CL_0000485 ;\n",
    "    a skos:Concept ;\n",
    "    skos:altLabel \"\\\"labrocyte\\\" [ISBN:0721601464]\"@en, ...\n",
    "    skos:definition \"\\\"A cell that is found in almost all tissues containing ... \n",
    "    skos:notation \"CL:0000097\"^^xsd:string ;\n",
    "    skos:prefLabel \"mast cell\"@en .\n",
    "```"
   ]
  },
  {
   "cell_type": "markdown",
   "metadata": {},
   "source": [
    "#### Simple ontology (starting point)\n",
    "\n",
    "````\n",
    "agro:Plant  a             owl:Class ;\n",
    "        rdfs:subClassOf   agro:LivingOrganism ;\n",
    "        owl:disjointWith  agro:Animal .\n",
    "\n",
    "agro:Animal  a           owl:Class ;\n",
    "        rdfs:subClassOf  agro:LivingOrganism .\n",
    "\n",
    "agro:p1  a          agro:Plant ;\n",
    "        rdfs:label  \"plant1\"^^xsd:string ;\n",
    "        agro:name   \"Platanus wrighitii\"^^xsd:string .\n",
    "\n",
    "agro:LivingOrganism  a  owl:Class .\n",
    "\n",
    "agro:name  a         owl:DatatypeProperty ;\n",
    "        rdfs:domain  agro:LivingOrganism ;\n",
    "        rdfs:range   xsd:string .\n",
    "````"
   ]
  },
  {
   "cell_type": "markdown",
   "metadata": {},
   "source": [
    "#### SPARQL Query\n",
    "\n",
    "````\n",
    "CONSTRUCT {\n",
    "            ?s rdf:type skos:Concept .\n",
    "            ?s skos:broader ?subC .\n",
    "            ?s skos:prefLabel ?label .\n",
    "          }\n",
    "WHERE { \n",
    "        ?s rdf:type owl:Class  .\n",
    "        OPTIONAL { ?s rdfs:subClassOf ?subC . }\n",
    "        OPTIONAL { ?s rdfs:label ?label . }\n",
    "      }\n",
    "````"
   ]
  },
  {
   "cell_type": "markdown",
   "metadata": {},
   "source": [
    "#### Query result (SKOS)\n",
    "\n",
    "````\n",
    "agro:Plant  a           skos:Concept ;\n",
    "        skos:broader    agro:LivingOrganism ;\n",
    "        skos:prefLabel  \"Planta\"@it , \"Plante\"@fr , \"Plant\"@en .\n",
    "\n",
    "agro:Animal  a          skos:Concept ;\n",
    "        skos:broader    agro:LivingOrganism ;\n",
    "        skos:prefLabel  \"Animale\"@it , \"Animal\"@fr , \"Animal\"@en .\n",
    "\n",
    "agro:LivingOrganism  a  skos:Concept ;\n",
    "        skos:prefLabel  \"Organismo Vivente\"@it , \"Organisme Vivant\"@fr , \"Living Organism\"@en .\n",
    "````"
   ]
  },
  {
   "cell_type": "markdown",
   "metadata": {},
   "source": [
    "#### Query \n",
    "\n",
    "````\n",
    "CONSTRUCT {\n",
    "            ?s rdf:type skos:Concept .\n",
    "            ?s skos:broader ?subC .\n",
    "            ?s skos:prefLabel ?label .\n",
    "            ?p rdfs:subPropertyOf skos:broader .\n",
    "            ?s ?p ?o .\n",
    "            ?p2 rdfs:subPropertyOf skos:related .\n",
    "            ?s ?p2 ?oRel .\n",
    "          }\n",
    "WHERE { \n",
    "        ?s rdf:type owl:Class  .\n",
    "        OPTIONAL { ?s rdfs:subClassOf ?subC . }\n",
    "        OPTIONAL { ?s rdfs:label ?label . }\n",
    "        OPTIONAL { ?p rdf:type owl:TransitiveProperty .\n",
    "                   ?s ?p ?o .\n",
    "                 }\n",
    "        OPTIONAL {\n",
    "                   ?p2 rdf:type owl:ObjectProperty .\n",
    "                   FILTER NOT EXISTS { ?p2 rdf:type owl:TransitiveProperty } .\n",
    "                   ?s ?p2 ?oRel .\n",
    "                  }\n",
    "      }\n",
    "````"
   ]
  },
  {
   "cell_type": "markdown",
   "metadata": {},
   "source": [
    "#### Result\n",
    "\n",
    "````\n",
    "agro:eats  rdfs:subPropertyOf  skos:related .\n",
    "\n",
    "agro:Leaf  a           skos:Concept ;\n",
    "        agro:isPartOf  agro:Plant .\n",
    "\n",
    "agro:Plant  a           skos:Concept ;\n",
    "        skos:broader    agro:LivingOrganism ;\n",
    "        skos:prefLabel  \"Planta\"@it , \"Plante\"@fr , \"Plant\"@en .\n",
    "\n",
    "agro:Animal  a          skos:Concept ;\n",
    "        skos:broader    agro:LivingOrganism ;\n",
    "        skos:prefLabel  \"Animale\"@it , \"Animal\"@fr , \"Animal\"@en .\n",
    "\n",
    "agro:LivingOrganism  a  skos:Concept ;\n",
    "        skos:prefLabel  \"Organismo Vivente\"@it , \"Organisme Vivant\"@fr , \"Living Organism\"@en .\n",
    "\n",
    "agro:isPartOf  rdfs:subPropertyOf  skos:broader .\n",
    "\n",
    "agro:Cow  a        skos:Concept ;\n",
    "        agro:eats  agro:Plant .\n",
    "````"
   ]
  },
  {
   "cell_type": "code",
   "execution_count": 2,
   "metadata": {
    "collapsed": false
   },
   "outputs": [
    {
     "name": "stdout",
     "output_type": "stream",
     "text": [
      "@prefix owl:   <http://www.w3.org/2002/07/owl#> .\n",
      "@prefix rdf:   <http://www.w3.org/1999/02/22-rdf-syntax-ns#> .\n",
      "@prefix xsd:   <http://www.w3.org/2001/XMLSchema#> .\n",
      "@prefix skos:  <http://www.w3.org/2004/02/skos/core#> .\n",
      "@prefix rdfs:  <http://www.w3.org/2000/01/rdf-schema#> .\n",
      "@prefix agro:  <http://www.sw.fr/isa/agro#> .\n",
      "@prefix dc:    <http://purl.org/dc/terms/> .\n",
      "\n",
      "agro:eats  rdfs:subPropertyOf  skos:related .\n",
      "\n",
      "agro:Leaf  a           skos:Concept ;\n",
      "        agro:isPartOf  agro:Plant .\n",
      "\n",
      "agro:Plant  a           skos:Concept ;\n",
      "        skos:broader    agro:LivingOrganism ;\n",
      "        skos:prefLabel  \"Planta\"@it , \"Plante\"@fr , \"Plant\"@en .\n",
      "\n",
      "agro:Animal  a          skos:Concept ;\n",
      "        skos:broader    agro:LivingOrganism ;\n",
      "        skos:prefLabel  \"Animale\"@it , \"Animal\"@fr , \"Animal\"@en .\n",
      "\n",
      "agro:Herbivore  a     skos:Concept ;\n",
      "        agro:eats     agro:Plant ;\n",
      "        skos:broader  agro:Animal .\n",
      "\n",
      "agro:LivingOrganism  a  skos:Concept ;\n",
      "        skos:prefLabel  \"Organismo Vivente\"@it , \"Organisme Vivant\"@fr , \"Living Organism\"@en .\n",
      "\n",
      "agro:isPartOf  rdfs:subPropertyOf  skos:broader .\n",
      "\n",
      "agro:Carnivore  a     skos:Concept ;\n",
      "        agro:eats     agro:Animal ;\n",
      "        skos:broader  agro:Animal .\n",
      "\n",
      "agro:Cow  a           skos:Concept ;\n",
      "        skos:broader  agro:Herbivore .\n"
     ]
    }
   ],
   "source": [
    "%%script bash\n",
    "arq --data agro.n3 '\n",
    "PREFIX rdf: <http://www.w3.org/1999/02/22-rdf-syntax-ns#> \n",
    "PREFIX rdfs: <http://www.w3.org/2000/01/rdf-schema#> \n",
    "PREFIX dc: <http://purl.org/dc/terms/> \n",
    "PREFIX owl: <http://www.w3.org/2002/07/owl#> \n",
    "PREFIX skos: <http://www.w3.org/2004/02/skos/core#>\n",
    "PREFIX agro:  <http://www.sw.fr/isa/agro#> \n",
    "\n",
    "CONSTRUCT {\n",
    "            ?s rdf:type skos:Concept .\n",
    "            ?s skos:broader ?subC .\n",
    "            ?s skos:prefLabel ?label .\n",
    "            ?p rdfs:subPropertyOf skos:broader .\n",
    "            ?s ?p ?o .\n",
    "            ?p2 rdfs:subPropertyOf skos:related .\n",
    "            ?s ?p2 ?oRel .\n",
    "            ?restrictionP rdfs:subPropertyOf skos:related .\n",
    "            ?s ?restrictionP ?restrictionC .\n",
    "          }\n",
    "WHERE { \n",
    "        ?s rdf:type owl:Class  .\n",
    "        OPTIONAL { ?s rdfs:subClassOf ?subC . \n",
    "                   FILTER (!isBlank(?subC)) .\n",
    "                 }\n",
    "        OPTIONAL { ?s rdfs:label ?label . }\n",
    "        OPTIONAL {\n",
    "                   ?x rdf:type owl:Restriction .\n",
    "                   ?x owl:onProperty ?restrictionP .\n",
    "                   ?x owl:someValuesFrom|owl:allValuesFrom ?restrictionC .\n",
    "                   ?s rdfs:subClassOf|owl:equivalentClass ?x .\n",
    "                 }\n",
    "        OPTIONAL { ?p rdf:type owl:TransitiveProperty .\n",
    "                   ?s ?p ?o .\n",
    "                 }\n",
    "        OPTIONAL {\n",
    "                   ?p2 rdf:type owl:ObjectProperty .\n",
    "                   FILTER NOT EXISTS { ?p2 rdf:type owl:TransitiveProperty } .\n",
    "                   ?s ?p2 ?oRel .\n",
    "                  }\n",
    "    }\n",
    "'"
   ]
  },
  {
   "cell_type": "markdown",
   "metadata": {},
   "source": [
    "#### Skosify\n",
    "\n",
    "* See https://github.com/NatLibFi/Skosify/wiki/OWL-conversion-to-SKOS\n",
    "* National Library of Finland routinely converts OWL into SKOS.  The Finnish Upper Level Ontology YSO and its many domain specific extensions are maintained as OWL ontologies (though nowadays most of the properties are from SKOS) and translated to SKOS using Skosify as part of the publication process. Skosify can use a mapping file to convert e.g. owl:Class into skos:Concept and rdfs:label into skos:prefLabel.\n",
    "* Uses configuration file to specify OWL-to-SKOS mappings, e.g., https://github.com/NatLibFi/Skosify/blob/master/owl2skos.cfg :\n",
    "\n",
    "````\n",
    "[types]\n",
    "owl.Class=skos:Concept\n",
    "rdfs.Class=skos:Concept\n",
    "\n",
    "[literals]\n",
    "rdfs.label=skos:prefLabel\n",
    "rdfs.comment=skos:definition\n",
    "\n",
    "[relations]\n",
    "rdfs.subClassOf=skos:broader\n",
    "owl.equivalentClass=skos:exactMatch\n",
    "````"
   ]
  },
  {
   "cell_type": "markdown",
   "metadata": {},
   "source": [
    "### Requirement 1\n",
    "\n",
    "SKOS browser must show subproperties of skos:broader.  Example:\n",
    "\n",
    "    agro:isPartOf\n",
    "        rdfs:subPropertyOf skos:broader .\n",
    "\n",
    "should be displayed as a hierarchy\n",
    "\n",
    "    skos:LivingOrganism\n",
    "      agro:Plant\n",
    "        agro:Animal\n",
    "          agro:Leaf\n",
    "\n",
    "...where leaf is \"part of\" (a subproperty of broader)."
   ]
  },
  {
   "cell_type": "markdown",
   "metadata": {},
   "source": [
    "### Requirement 2\n",
    "\n",
    "Example:\n",
    "\n",
    "    agro:Cow\n",
    "      agro:eats  agro:Plant .\n",
    "\n",
    "If agro:eats is a subproperty of skos:related, this means that Cow is somehow related to Plant.  However, this should not be part of the display hierarchy."
   ]
  },
  {
   "cell_type": "code",
   "execution_count": null,
   "metadata": {
    "collapsed": true
   },
   "outputs": [],
   "source": []
  }
 ],
 "metadata": {
  "kernelspec": {
   "display_name": "Python 2",
   "language": "python",
   "name": "python2"
  },
  "language_info": {
   "codemirror_mode": {
    "name": "ipython",
    "version": 2
   },
   "file_extension": ".py",
   "mimetype": "text/x-python",
   "name": "python",
   "nbconvert_exporter": "python",
   "pygments_lexer": "ipython2",
   "version": "2.7.11"
  }
 },
 "nbformat": 4,
 "nbformat_minor": 0
}
